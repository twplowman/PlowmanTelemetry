{
 "cells": [
  {
   "cell_type": "code",
   "execution_count": null,
   "id": "dbd86e68-a71b-4a7a-93ba-ea926c35b99e",
   "metadata": {},
   "outputs": [],
   "source": [
    "import pandas as pd\n",
    "df = pd.read_csv('hex-data.csv')\n",
    "df = df.fillna('')\n",
    "print(df)\n",
    "\n",
    "\n"
   ]
  },
  {
   "cell_type": "code",
   "execution_count": null,
   "id": "18a89f27-e023-46a8-9b75-25f3204ea014",
   "metadata": {},
   "outputs": [],
   "source": [
    "import json\n",
    "with open('sf_zip_geo.json', 'r') as f:\n",
    "    geojson = f.read()\n",
    "\n",
    "json_data=json.loads(geojson)"
   ]
  },
  {
   "cell_type": "code",
   "execution_count": null,
   "id": "c747de63-9321-4f98-a717-7891cc241475",
   "metadata": {},
   "outputs": [],
   "source": [
    "# assign config = hex_config\n",
    "%run hex_config.py"
   ]
  },
  {
   "cell_type": "code",
   "execution_count": 3,
   "id": "ed6cce69-7701-420e-9038-b28b884cd80c",
   "metadata": {},
   "outputs": [
    {
     "ename": "ModuleNotFoundError",
     "evalue": "No module named 'keplergl'",
     "output_type": "error",
     "traceback": [
      "\u001b[0;31m---------------------------------------------------------------------------\u001b[0m",
      "\u001b[0;31mModuleNotFoundError\u001b[0m                       Traceback (most recent call last)",
      "Input \u001b[0;32mIn [3]\u001b[0m, in \u001b[0;36m<module>\u001b[0;34m\u001b[0m\n\u001b[0;32m----> 1\u001b[0m \u001b[38;5;28;01mimport\u001b[39;00m \u001b[38;5;21;01mkeplergl\u001b[39;00m\n\u001b[1;32m      2\u001b[0m w1 \u001b[38;5;241m=\u001b[39m keplergl\u001b[38;5;241m.\u001b[39mKeplerGl(height\u001b[38;5;241m=\u001b[39m\u001b[38;5;241m500\u001b[39m, data\u001b[38;5;241m=\u001b[39m{\u001b[38;5;124m\"\u001b[39m\u001b[38;5;124mdata_1\u001b[39m\u001b[38;5;124m\"\u001b[39m: df}, config\u001b[38;5;241m=\u001b[39mconfig)\n\u001b[1;32m      3\u001b[0m \u001b[38;5;66;03m# w1 = keplergl.KeplerGl(height=500)\u001b[39;00m\n",
      "\u001b[0;31mModuleNotFoundError\u001b[0m: No module named 'keplergl'"
     ]
    }
   ],
   "source": [
    "import keplergl\n",
    "w1 = keplergl.KeplerGl(height=500, data={\"data_1\": df}, config=config)\n",
    "# w1 = keplergl.KeplerGl(height=500)\n",
    "w1"
   ]
  },
  {
   "cell_type": "code",
   "execution_count": null,
   "id": "23558953-bede-4769-8299-5855fe165179",
   "metadata": {},
   "outputs": [],
   "source": [
    "w1.add_data(df, 'data_1')\n"
   ]
  },
  {
   "cell_type": "code",
   "execution_count": 2,
   "id": "7b634f34-8b70-4404-823e-8ddceada51a3",
   "metadata": {},
   "outputs": [
    {
     "ename": "NameError",
     "evalue": "name 'w1' is not defined",
     "output_type": "error",
     "traceback": [
      "\u001b[0;31m---------------------------------------------------------------------------\u001b[0m",
      "\u001b[0;31mNameError\u001b[0m                                 Traceback (most recent call last)",
      "Input \u001b[0;32mIn [2]\u001b[0m, in \u001b[0;36m<module>\u001b[0;34m\u001b[0m\n\u001b[0;32m----> 1\u001b[0m \u001b[43mw1\u001b[49m\u001b[38;5;241m.\u001b[39mconfig\n",
      "\u001b[0;31mNameError\u001b[0m: name 'w1' is not defined"
     ]
    }
   ],
   "source": [
    "w1.config\n"
   ]
  },
  {
   "cell_type": "code",
   "execution_count": null,
   "id": "2e3bf27a-8475-4037-b9e7-b9262f590f01",
   "metadata": {},
   "outputs": [],
   "source": [
    "w1.add_data(json_data, 'geojson')\n"
   ]
  },
  {
   "cell_type": "code",
   "execution_count": null,
   "id": "59dc7331-4ede-48c2-b4a2-24991d3654b7",
   "metadata": {},
   "outputs": [],
   "source": [
    "w1.save_to_html(file_name='first_map.html', data={\"data_1\": df}, config=config)"
   ]
  }
 ],
 "metadata": {
  "kernelspec": {
   "display_name": "Python 3 (ipykernel)",
   "language": "python",
   "name": "python3"
  },
  "language_info": {
   "codemirror_mode": {
    "name": "ipython",
    "version": 3
   },
   "file_extension": ".py",
   "mimetype": "text/x-python",
   "name": "python",
   "nbconvert_exporter": "python",
   "pygments_lexer": "ipython3",
   "version": "3.8.5"
  }
 },
 "nbformat": 4,
 "nbformat_minor": 5
}
